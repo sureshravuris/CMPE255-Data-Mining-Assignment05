{
 "cells": [
  {
   "cell_type": "code",
   "execution_count": 109,
   "outputs": [],
   "source": [
    "# importing pandas for data manipulation\n",
    "import pandas as pd\n",
    "# importing cluster analysis libraries\n",
    "from sklearn.preprocessing import StandardScaler\n",
    "from sklearn.cluster import KMeans\n",
    "#importing visualization libs\n",
    "import matplotlib.pyplot as plt\n",
    "import numpy as np"
   ],
   "metadata": {
    "collapsed": false,
    "pycharm": {
     "name": "#%%\n"
    }
   }
  },
  {
   "cell_type": "markdown",
   "source": [
    "# Geospatial Analysis\n",
    "Utilize the event location, district, and region information to perform geospatial analysis. Visualize the distribution of fatalities on a map and identify areas that have experienced higher levels of violence."
   ],
   "metadata": {
    "collapsed": false,
    "pycharm": {
     "name": "#%% md\n"
    }
   }
  },
  {
   "cell_type": "markdown",
   "source": [
    "# Data Ingestion & Preprocessing"
   ],
   "metadata": {
    "collapsed": false,
    "pycharm": {
     "name": "#%% md\n"
    }
   }
  },
  {
   "cell_type": "code",
   "execution_count": 59,
   "outputs": [],
   "source": [
    "fatalities_spatiotemporal_df_with_GEO = pd.read_csv('Fatalities_Israel-Palestine_with_GEO.csv')"
   ],
   "metadata": {
    "collapsed": false,
    "pycharm": {
     "name": "#%%\n"
    }
   }
  },
  {
   "cell_type": "code",
   "execution_count": 60,
   "outputs": [
    {
     "data": {
      "text/plain": "(9647, 18)"
     },
     "execution_count": 60,
     "metadata": {},
     "output_type": "execute_result"
    }
   ],
   "source": [
    "fatalities_spatiotemporal_df_with_GEO.shape"
   ],
   "metadata": {
    "collapsed": false,
    "pycharm": {
     "name": "#%%\n"
    }
   }
  },
  {
   "cell_type": "code",
   "execution_count": 61,
   "outputs": [
    {
     "data": {
      "text/plain": "name                               0\ndate_of_event                      0\nage                                0\ncitizenship                        0\nevent_location                     0\nevent_location_district            0\nevent_location_region              0\ndate_of_death                      0\ngender                            14\ntook_part_in_the_hostilities    1235\nplace_of_residence                55\nplace_of_residence_district       55\ntype_of_injury                   278\nammunition                      4433\nkilled_by                          0\nnotes                            225\nevent_location_latitude            0\nevent_location_longitude           0\ndtype: int64"
     },
     "execution_count": 61,
     "metadata": {},
     "output_type": "execute_result"
    }
   ],
   "source": [
    "fatalities_spatiotemporal_df_with_GEO.isna().sum()"
   ],
   "metadata": {
    "collapsed": false,
    "pycharm": {
     "name": "#%%\n"
    }
   }
  },
  {
   "cell_type": "markdown",
   "source": [
    "## Imputing missing values"
   ],
   "metadata": {
    "collapsed": false,
    "pycharm": {
     "name": "#%% md\n"
    }
   }
  },
  {
   "cell_type": "code",
   "execution_count": 62,
   "outputs": [],
   "source": [
    "text_columns = [\n",
    "    'name', 'citizenship', 'event_location', 'event_location_district',\n",
    "    'event_location_region', 'gender', 'place_of_residence',\n",
    "    'place_of_residence_district', 'type_of_injury', 'ammunition',\n",
    "    'killed_by', 'notes', 'took_part_in_the_hostilities'\n",
    "]"
   ],
   "metadata": {
    "collapsed": false,
    "pycharm": {
     "name": "#%%\n"
    }
   }
  },
  {
   "cell_type": "code",
   "execution_count": 66,
   "outputs": [],
   "source": [
    "# replace 'nan' with 'unknown' in text columns\n",
    "for column in text_columns:\n",
    "    if column in fatalities_spatiotemporal_df_with_GEO.columns:\n",
    "        fatalities_spatiotemporal_df_with_GEO[column].fillna('Unknown', inplace=True)"
   ],
   "metadata": {
    "collapsed": false,
    "pycharm": {
     "name": "#%%\n"
    }
   }
  },
  {
   "cell_type": "code",
   "execution_count": 74,
   "outputs": [
    {
     "data": {
      "text/plain": "took_part_in_the_hostilities\nNo                            4094\nYes                           2998\nUnknown                       1742\nIsraelis                       631\nObject of targeted killing     182\nName: count, dtype: int64"
     },
     "execution_count": 74,
     "metadata": {},
     "output_type": "execute_result"
    }
   ],
   "source": [
    "fatalities_spatiotemporal_df_with_GEO.took_part_in_the_hostilities.value_counts()"
   ],
   "metadata": {
    "collapsed": false,
    "pycharm": {
     "name": "#%%\n"
    }
   }
  },
  {
   "cell_type": "code",
   "execution_count": 68,
   "outputs": [
    {
     "data": {
      "text/plain": "name                            0\ndate_of_event                   0\nage                             0\ncitizenship                     0\nevent_location                  0\nevent_location_district         0\nevent_location_region           0\ndate_of_death                   0\ngender                          0\ntook_part_in_the_hostilities    0\nplace_of_residence              0\nplace_of_residence_district     0\ntype_of_injury                  0\nammunition                      0\nkilled_by                       0\nnotes                           0\nevent_location_latitude         0\nevent_location_longitude        0\ndtype: int64"
     },
     "execution_count": 68,
     "metadata": {},
     "output_type": "execute_result"
    }
   ],
   "source": [
    "fatalities_spatiotemporal_df_with_GEO.isna().sum()"
   ],
   "metadata": {
    "collapsed": false,
    "pycharm": {
     "name": "#%%\n"
    }
   }
  },
  {
   "cell_type": "markdown",
   "source": [
    "## Data typing"
   ],
   "metadata": {
    "collapsed": false,
    "pycharm": {
     "name": "#%% md\n"
    }
   }
  },
  {
   "cell_type": "code",
   "execution_count": 75,
   "outputs": [
    {
     "data": {
      "text/plain": "name                             object\ndate_of_event                    object\nage                             float64\ncitizenship                      object\nevent_location                   object\nevent_location_district          object\nevent_location_region            object\ndate_of_death                    object\ngender                           object\ntook_part_in_the_hostilities     object\nplace_of_residence               object\nplace_of_residence_district      object\ntype_of_injury                   object\nammunition                       object\nkilled_by                        object\nnotes                            object\nevent_location_latitude         float64\nevent_location_longitude        float64\ndtype: object"
     },
     "execution_count": 75,
     "metadata": {},
     "output_type": "execute_result"
    }
   ],
   "source": [
    "# Check the data types\n",
    "fatalities_spatiotemporal_df_with_GEO.dtypes"
   ],
   "metadata": {
    "collapsed": false,
    "pycharm": {
     "name": "#%%\n"
    }
   }
  },
  {
   "cell_type": "code",
   "execution_count": 76,
   "outputs": [],
   "source": [
    "# Convert the date column to datetime format\n",
    "fatalities_spatiotemporal_df_with_GEO['date_of_event'] = pd.to_datetime(fatalities_spatiotemporal_df_with_GEO['date_of_event'])\n",
    "# set age to numeric\n",
    "fatalities_spatiotemporal_df_with_GEO['age'] = pd.to_numeric(fatalities_spatiotemporal_df_with_GEO['age'], errors='coerce')\n",
    "#set date_of_death to datetime\n",
    "fatalities_spatiotemporal_df_with_GEO['date_of_death'] = pd.to_datetime(fatalities_spatiotemporal_df_with_GEO['date_of_death'], errors='coerce')\n",
    "# set name, citizenship, event_location, event_location_district, event_location_region, gender, place_of_residence, place_of_residence_district, type_of_injury, ammunition, killed_by, and notes to text/string\n",
    "# List of columns to change to string\n",
    "\n",
    "# Change data type of specified columns to 'object' to ensure they're strings\n",
    "for column in text_columns:\n",
    "    if column in fatalities_spatiotemporal_df_with_GEO.columns:\n",
    "        fatalities_spatiotemporal_df_with_GEO[column] = fatalities_spatiotemporal_df_with_GEO[column].astype('string')"
   ],
   "metadata": {
    "collapsed": false,
    "pycharm": {
     "name": "#%%\n"
    }
   }
  },
  {
   "cell_type": "code",
   "execution_count": 78,
   "outputs": [
    {
     "data": {
      "text/plain": "name                            string[python]\ndate_of_event                   datetime64[ns]\nage                                    float64\ncitizenship                     string[python]\nevent_location                  string[python]\nevent_location_district         string[python]\nevent_location_region           string[python]\ndate_of_death                   datetime64[ns]\ngender                          string[python]\ntook_part_in_the_hostilities    string[python]\nplace_of_residence              string[python]\nplace_of_residence_district     string[python]\ntype_of_injury                  string[python]\nammunition                      string[python]\nkilled_by                       string[python]\nnotes                           string[python]\nevent_location_latitude                float64\nevent_location_longitude               float64\ndtype: object"
     },
     "execution_count": 78,
     "metadata": {},
     "output_type": "execute_result"
    }
   ],
   "source": [
    "fatalities_spatiotemporal_df_with_GEO.dtypes"
   ],
   "metadata": {
    "collapsed": false,
    "pycharm": {
     "name": "#%%\n"
    }
   }
  },
  {
   "cell_type": "markdown",
   "source": [
    "# Data Cleaning and Feature Engineering\n",
    "## Using the GoogleAPI to extract latitude and longitude from the event_location column\n",
    "This part was commented out due to the long run time. The data was saved to csv form and will be imported at the end of this commented section. The script that was used is the GeoLocation_Extract.py file in the SpatioTemporal subdirectory for this project"
   ],
   "metadata": {
    "collapsed": false,
    "pycharm": {
     "name": "#%% md\n"
    }
   }
  },
  {
   "cell_type": "code",
   "execution_count": 79,
   "outputs": [
    {
     "data": {
      "text/plain": "                             name date_of_event   age  citizenship  \\\n9642                Amos Machlouf    2000-10-28  30.0      Israeli   \n9643               Marik Gavrilov    2000-10-27  25.0      Israeli   \n9644             Binyamin Herling    2000-10-19  64.0      Israeli   \n9645  Farid Musa 'Issa a-Nesasreh    2000-10-17  28.0  Palestinian   \n9646             Hillel Lieberman    2000-10-07  36.0      Israeli   \n\n     event_location event_location_district event_location_region  \\\n9642      Beit Jala               Bethlehem             West Bank   \n9643       Ramallah    Ramallah and al-Bira             West Bank   \n9644         Nablus                  Nablus             West Bank   \n9645     Beit Furik                  Nablus             West Bank   \n9646         Nablus                  Nablus             West Bank   \n\n     date_of_death gender took_part_in_the_hostilities place_of_residence  \\\n9642    2000-10-28      M                     Israelis     East Jerusalem   \n9643    2000-10-27      M                     Israelis        Banei Ayish   \n9644    2000-10-19      M                     Israelis            Kedumim   \n9645    2000-10-17      M                      Unknown         Beit Furik   \n9646    2000-10-07      M                     Israelis         Elon Moreh   \n\n     place_of_residence_district type_of_injury       ammunition  \\\n9642              East Jerusalem       stabbing          Unknown   \n9643                      Israel        gunfire  live ammunition   \n9644                     Tulkarm        gunfire  live ammunition   \n9645                      Nablus        gunfire          Unknown   \n9646                      Nablus        gunfire  live ammunition   \n\n                  killed_by  \\\n9642  Palestinian civilians   \n9643  Palestinian civilians   \n9644  Palestinian civilians   \n9645      Israeli civilians   \n9646  Palestinian civilians   \n\n                                                  notes  \\\n9642  Killed when he was stabbed and shot. His body ...   \n9643               His body was found burnt in his car.   \n9644                  Killed while hiking on Mt. Eival.   \n9645  Killed by a settler from Itamar while harvesti...   \n9646     His body was found a day after he disappeared.   \n\n      event_location_latitude  event_location_longitude  \n9642                31.715999                 35.187149  \n9643                31.903764                 35.203418  \n9644                32.222668                 35.262146  \n9645                32.175456                 35.336484  \n9646                32.222668                 35.262146  ",
      "text/html": "<div>\n<style scoped>\n    .dataframe tbody tr th:only-of-type {\n        vertical-align: middle;\n    }\n\n    .dataframe tbody tr th {\n        vertical-align: top;\n    }\n\n    .dataframe thead th {\n        text-align: right;\n    }\n</style>\n<table border=\"1\" class=\"dataframe\">\n  <thead>\n    <tr style=\"text-align: right;\">\n      <th></th>\n      <th>name</th>\n      <th>date_of_event</th>\n      <th>age</th>\n      <th>citizenship</th>\n      <th>event_location</th>\n      <th>event_location_district</th>\n      <th>event_location_region</th>\n      <th>date_of_death</th>\n      <th>gender</th>\n      <th>took_part_in_the_hostilities</th>\n      <th>place_of_residence</th>\n      <th>place_of_residence_district</th>\n      <th>type_of_injury</th>\n      <th>ammunition</th>\n      <th>killed_by</th>\n      <th>notes</th>\n      <th>event_location_latitude</th>\n      <th>event_location_longitude</th>\n    </tr>\n  </thead>\n  <tbody>\n    <tr>\n      <th>9642</th>\n      <td>Amos Machlouf</td>\n      <td>2000-10-28</td>\n      <td>30.0</td>\n      <td>Israeli</td>\n      <td>Beit Jala</td>\n      <td>Bethlehem</td>\n      <td>West Bank</td>\n      <td>2000-10-28</td>\n      <td>M</td>\n      <td>Israelis</td>\n      <td>East Jerusalem</td>\n      <td>East Jerusalem</td>\n      <td>stabbing</td>\n      <td>Unknown</td>\n      <td>Palestinian civilians</td>\n      <td>Killed when he was stabbed and shot. His body ...</td>\n      <td>31.715999</td>\n      <td>35.187149</td>\n    </tr>\n    <tr>\n      <th>9643</th>\n      <td>Marik Gavrilov</td>\n      <td>2000-10-27</td>\n      <td>25.0</td>\n      <td>Israeli</td>\n      <td>Ramallah</td>\n      <td>Ramallah and al-Bira</td>\n      <td>West Bank</td>\n      <td>2000-10-27</td>\n      <td>M</td>\n      <td>Israelis</td>\n      <td>Banei Ayish</td>\n      <td>Israel</td>\n      <td>gunfire</td>\n      <td>live ammunition</td>\n      <td>Palestinian civilians</td>\n      <td>His body was found burnt in his car.</td>\n      <td>31.903764</td>\n      <td>35.203418</td>\n    </tr>\n    <tr>\n      <th>9644</th>\n      <td>Binyamin Herling</td>\n      <td>2000-10-19</td>\n      <td>64.0</td>\n      <td>Israeli</td>\n      <td>Nablus</td>\n      <td>Nablus</td>\n      <td>West Bank</td>\n      <td>2000-10-19</td>\n      <td>M</td>\n      <td>Israelis</td>\n      <td>Kedumim</td>\n      <td>Tulkarm</td>\n      <td>gunfire</td>\n      <td>live ammunition</td>\n      <td>Palestinian civilians</td>\n      <td>Killed while hiking on Mt. Eival.</td>\n      <td>32.222668</td>\n      <td>35.262146</td>\n    </tr>\n    <tr>\n      <th>9645</th>\n      <td>Farid Musa 'Issa a-Nesasreh</td>\n      <td>2000-10-17</td>\n      <td>28.0</td>\n      <td>Palestinian</td>\n      <td>Beit Furik</td>\n      <td>Nablus</td>\n      <td>West Bank</td>\n      <td>2000-10-17</td>\n      <td>M</td>\n      <td>Unknown</td>\n      <td>Beit Furik</td>\n      <td>Nablus</td>\n      <td>gunfire</td>\n      <td>Unknown</td>\n      <td>Israeli civilians</td>\n      <td>Killed by a settler from Itamar while harvesti...</td>\n      <td>32.175456</td>\n      <td>35.336484</td>\n    </tr>\n    <tr>\n      <th>9646</th>\n      <td>Hillel Lieberman</td>\n      <td>2000-10-07</td>\n      <td>36.0</td>\n      <td>Israeli</td>\n      <td>Nablus</td>\n      <td>Nablus</td>\n      <td>West Bank</td>\n      <td>2000-10-07</td>\n      <td>M</td>\n      <td>Israelis</td>\n      <td>Elon Moreh</td>\n      <td>Nablus</td>\n      <td>gunfire</td>\n      <td>live ammunition</td>\n      <td>Palestinian civilians</td>\n      <td>His body was found a day after he disappeared.</td>\n      <td>32.222668</td>\n      <td>35.262146</td>\n    </tr>\n  </tbody>\n</table>\n</div>"
     },
     "execution_count": 79,
     "metadata": {},
     "output_type": "execute_result"
    }
   ],
   "source": [
    "fatalities_spatiotemporal_df_with_GEO.tail()"
   ],
   "metadata": {
    "collapsed": false,
    "pycharm": {
     "name": "#%%\n"
    }
   }
  },
  {
   "cell_type": "markdown",
   "source": [
    "# Exploratory Data Analysis\n",
    "I will be running cluster analysis on the lat/long features over time"
   ],
   "metadata": {
    "collapsed": false,
    "pycharm": {
     "name": "#%% md\n"
    }
   }
  },
  {
   "cell_type": "code",
   "execution_count": 54,
   "outputs": [
    {
     "data": {
      "text/plain": "Index(['name', 'date_of_event', 'age', 'citizenship', 'event_location',\n       'event_location_district', 'event_location_region', 'date_of_death',\n       'gender', 'took_part_in_the_hostilities', 'place_of_residence',\n       'place_of_residence_district', 'type_of_injury', 'ammunition',\n       'killed_by', 'notes', 'event_location_latitude',\n       'event_location_longitude'],\n      dtype='object')"
     },
     "execution_count": 54,
     "metadata": {},
     "output_type": "execute_result"
    }
   ],
   "source": [
    "fatalities_spatiotemporal_df_with_GEO.columns"
   ],
   "metadata": {
    "collapsed": false,
    "pycharm": {
     "name": "#%%\n"
    }
   }
  },
  {
   "cell_type": "code",
   "execution_count": 87,
   "outputs": [],
   "source": [
    "spatio_temporal_columns = ['citizenship', 'event_location', 'event_location_district',\n",
    "    'event_location_region', 'place_of_residence',\n",
    "    'place_of_residence_district', 'date_of_event', 'date_of_death']"
   ],
   "metadata": {
    "collapsed": false,
    "pycharm": {
     "name": "#%%\n"
    }
   }
  },
  {
   "cell_type": "code",
   "execution_count": 88,
   "outputs": [
    {
     "data": {
      "text/plain": "0"
     },
     "execution_count": 88,
     "metadata": {},
     "output_type": "execute_result"
    }
   ],
   "source": [
    "fatalities_spatiotemporal_df_with_GEO.event_location.isna().sum()"
   ],
   "metadata": {
    "collapsed": false,
    "pycharm": {
     "name": "#%%\n"
    }
   }
  },
  {
   "cell_type": "markdown",
   "source": [
    " ~0.13% of the data was dropped due to missing geolocation data"
   ],
   "metadata": {
    "collapsed": false,
    "pycharm": {
     "name": "#%% md\n"
    }
   }
  },
  {
   "cell_type": "code",
   "execution_count": 101,
   "outputs": [
    {
     "data": {
      "text/plain": "Index(['name', 'date_of_event', 'age', 'citizenship', 'event_location',\n       'event_location_district', 'event_location_region', 'date_of_death',\n       'gender', 'took_part_in_the_hostilities', 'place_of_residence',\n       'place_of_residence_district', 'type_of_injury', 'ammunition',\n       'killed_by', 'notes', 'event_location_latitude',\n       'event_location_longitude', 'date_ordinal_since_event'],\n      dtype='object')"
     },
     "execution_count": 101,
     "metadata": {},
     "output_type": "execute_result"
    }
   ],
   "source": [
    "fatalities_spatiotemporal_df_with_GEO.columns"
   ],
   "metadata": {
    "collapsed": false,
    "pycharm": {
     "name": "#%%\n"
    }
   }
  },
  {
   "cell_type": "code",
   "execution_count": 86,
   "outputs": [
    {
     "data": {
      "text/plain": "(9647, 18)"
     },
     "execution_count": 86,
     "metadata": {},
     "output_type": "execute_result"
    }
   ],
   "source": [
    "fatalities_spatiotemporal_df_with_GEO.shape"
   ],
   "metadata": {
    "collapsed": false,
    "pycharm": {
     "name": "#%%\n"
    }
   }
  },
  {
   "cell_type": "code",
   "execution_count": 100,
   "outputs": [],
   "source": [
    "#   fe for cluster analysis\n",
    "# Convert datetime to ordinal (number of days since a reference date)\n",
    "fatalities_spatiotemporal_df_with_GEO['date_ordinal_since_event'] = fatalities_spatiotemporal_df_with_GEO.date_of_event.dt.date.apply(lambda x: x.toordinal())"
   ],
   "metadata": {
    "collapsed": false,
    "pycharm": {
     "name": "#%%\n"
    }
   }
  },
  {
   "cell_type": "code",
   "execution_count": 102,
   "outputs": [],
   "source": [
    "# scaling the numerical spatio-temporal features for kmeans clustering (distance metric is sensitive to scale)\n",
    "features = ['date_ordinal_since_event', 'event_location_latitude', 'event_location_longitude']\n",
    "\n",
    "# Perform scaling\n",
    "scaler = StandardScaler()\n",
    "data_scaled = scaler.fit_transform(fatalities_spatiotemporal_df_with_GEO[features])"
   ],
   "metadata": {
    "collapsed": false,
    "pycharm": {
     "name": "#%%\n"
    }
   }
  },
  {
   "cell_type": "code",
   "execution_count": 103,
   "outputs": [
    {
     "name": "stderr",
     "output_type": "stream",
     "text": [
      "/Users/mocha/.conda/envs/dataenv/lib/python3.8/site-packages/sklearn/cluster/_kmeans.py:1412: FutureWarning: The default value of `n_init` will change from 10 to 'auto' in 1.4. Set the value of `n_init` explicitly to suppress the warning\n",
      "  super()._check_params_vs_input(X, default_n_init=10)\n"
     ]
    }
   ],
   "source": [
    "# Define the number of clusters you want to form\n",
    "num_clusters = 3\n",
    "\n",
    "# Perform K-means clustering\n",
    "kmeans = KMeans(n_clusters=num_clusters, random_state=0).fit(data_scaled)\n",
    "\n",
    "# Add cluster number back to original data\n",
    "fatalities_spatiotemporal_df_with_GEO['event_location_cluster_in_time'] = kmeans.labels_"
   ],
   "metadata": {
    "collapsed": false,
    "pycharm": {
     "name": "#%%\n"
    }
   }
  },
  {
   "cell_type": "code",
   "execution_count": 107,
   "outputs": [
    {
     "data": {
      "text/plain": "     event_location date_of_event  event_location_cluster_in_time\n9642      Beit Jala    2000-10-28                               1\n9643       Ramallah    2000-10-27                               1\n9644         Nablus    2000-10-19                               1\n9645     Beit Furik    2000-10-17                               1\n9646         Nablus    2000-10-07                               1",
      "text/html": "<div>\n<style scoped>\n    .dataframe tbody tr th:only-of-type {\n        vertical-align: middle;\n    }\n\n    .dataframe tbody tr th {\n        vertical-align: top;\n    }\n\n    .dataframe thead th {\n        text-align: right;\n    }\n</style>\n<table border=\"1\" class=\"dataframe\">\n  <thead>\n    <tr style=\"text-align: right;\">\n      <th></th>\n      <th>event_location</th>\n      <th>date_of_event</th>\n      <th>event_location_cluster_in_time</th>\n    </tr>\n  </thead>\n  <tbody>\n    <tr>\n      <th>9642</th>\n      <td>Beit Jala</td>\n      <td>2000-10-28</td>\n      <td>1</td>\n    </tr>\n    <tr>\n      <th>9643</th>\n      <td>Ramallah</td>\n      <td>2000-10-27</td>\n      <td>1</td>\n    </tr>\n    <tr>\n      <th>9644</th>\n      <td>Nablus</td>\n      <td>2000-10-19</td>\n      <td>1</td>\n    </tr>\n    <tr>\n      <th>9645</th>\n      <td>Beit Furik</td>\n      <td>2000-10-17</td>\n      <td>1</td>\n    </tr>\n    <tr>\n      <th>9646</th>\n      <td>Nablus</td>\n      <td>2000-10-07</td>\n      <td>1</td>\n    </tr>\n  </tbody>\n</table>\n</div>"
     },
     "execution_count": 107,
     "metadata": {},
     "output_type": "execute_result"
    }
   ],
   "source": [
    "fatalities_spatiotemporal_df_with_GEO.loc[:, ['event_location', 'date_of_event', 'event_location_cluster_in_time']].tail()"
   ],
   "metadata": {
    "collapsed": false,
    "pycharm": {
     "name": "#%%\n"
    }
   }
  },
  {
   "cell_type": "markdown",
   "source": [
    "## Visualization of the Clusters as EDA"
   ],
   "metadata": {
    "collapsed": false,
    "pycharm": {
     "name": "#%% md\n"
    }
   }
  },
  {
   "cell_type": "code",
   "execution_count": 114,
   "outputs": [
    {
     "data": {
      "text/plain": "<Figure size 1000x600 with 1 Axes>",
      "image/png": "[encoded data removed]"
     },
     "metadata": {},
     "output_type": "display_data"
    }
   ],
   "source": [
    "# Assume 'data' is your DataFrame and it has columns 'latitude', 'longitude', and 'cluster'\n",
    "# which contains the cluster labels.\n",
    "\n",
    "# Create a scatter plot\n",
    "plt.figure(figsize=(10, 6))  # You can adjust the size as needed\n",
    "\n",
    "# Generate a color palette, one color per cluster\n",
    "num_clusters = fatalities_spatiotemporal_df_with_GEO['event_location_cluster_in_time'].nunique()\n",
    "cluster_colors = [plt.cm.viridis(each) for each in np.linspace(start=0, stop=1, num=num_clusters)]\n",
    "\n",
    "for i, color in enumerate(cluster_colors):\n",
    "    # Plot each cluster with its own color and label\n",
    "    clustered_data = fatalities_spatiotemporal_df_with_GEO[fatalities_spatiotemporal_df_with_GEO['event_location_cluster_in_time'] == i]\n",
    "    plt.scatter(clustered_data[features[1]], clustered_data[features[0]], c=[color], label=f'Cluster {i}', s=50)\n",
    "\n",
    "# If you want to plot centroids\n",
    "if 'kmeans' in globals():  # Check if you have 'kmeans' variable from previous clustering steps\n",
    "    centroids = scaler.inverse_transform(kmeans.cluster_centers_)  # If you scaled your features, you need to reverse the transformation\n",
    "    plt.scatter(centroids[:, 2], centroids[:, 1], s=200, marker='X', c='red', label='Centroids')  # centroids[:, 2] for longitude and centroids[:, 1] for latitude\n",
    "\n",
    "plt.title('Clusters of Events')\n",
    "plt.xlabel('Longitude')\n",
    "plt.ylabel('Latitude')\n",
    "\n",
    "# Include a legend to show which color represents which cluster\n",
    "plt.legend()\n",
    "\n",
    "# Show the plot\n",
    "plt.show()"
   ],
   "metadata": {
    "collapsed": false,
    "pycharm": {
     "name": "#%%\n"
    }
   }
  },
  {
   "cell_type": "markdown",
   "source": [
    "## Conclusions:\n",
    "The centorids indicate the location of the attack events in the palestine and israel regions / territories are shifted more to higher longitudes, but latitude stays constant (mostly). This indicates that the attacks are more concentrated in the northern regions of the territories. Noting the cluster label where the centroids are located, we noticed cluster 2/3 are centered at the centroids. We also can notice that cluster 2 has less variance and so I've decided to choose this cluster for further investigation by looking at the top 5 event ('attack') locations and the top 5 citizenships of the victims."
   ],
   "metadata": {
    "collapsed": false,
    "pycharm": {
     "name": "#%% md\n"
    }
   }
  },
  {
   "cell_type": "code",
   "execution_count": 116,
   "outputs": [],
   "source": [
    "cluster2 = fatalities_spatiotemporal_df_with_GEO.where(fatalities_spatiotemporal_df_with_GEO.event_location_cluster_in_time == 2).dropna(how='all')"
   ],
   "metadata": {
    "collapsed": false,
    "pycharm": {
     "name": "#%%\n"
    }
   }
  },
  {
   "cell_type": "code",
   "execution_count": 119,
   "outputs": [
    {
     "data": {
      "text/plain": "event_location_district\nGaza             851\nNorth Gaza       595\nKhan Yunis       518\nRafah            495\nDeir al-Balah    298\nName: count, dtype: Int64"
     },
     "execution_count": 119,
     "metadata": {},
     "output_type": "execute_result"
    }
   ],
   "source": [
    "cluster2.event_location_district.value_counts()[:5]"
   ],
   "metadata": {
    "collapsed": false,
    "pycharm": {
     "name": "#%%\n"
    }
   }
  },
  {
   "cell_type": "code",
   "execution_count": 120,
   "outputs": [
    {
     "data": {
      "text/plain": "citizenship\nPalestinian    3476\nIsraeli         155\nJordanian         2\nAmerican          1\nName: count, dtype: Int64"
     },
     "execution_count": 120,
     "metadata": {},
     "output_type": "execute_result"
    }
   ],
   "source": [
    "cluster2.citizenship.value_counts()[:5]"
   ],
   "metadata": {
    "collapsed": false,
    "pycharm": {
     "name": "#%%\n"
    }
   }
  },
  {
   "cell_type": "code",
   "execution_count": null,
   "outputs": [],
   "source": [],
   "metadata": {
    "collapsed": false,
    "pycharm": {
     "name": "#%%\n"
    }
   }
  }
 ],
 "metadata": {
  "kernelspec": {
   "name": "dataenv",
   "language": "python",
   "display_name": "data env"
  },
  "language_info": {
   "codemirror_mode": {
    "name": "ipython",
    "version": 2
   },
   "file_extension": ".py",
   "mimetype": "text/x-python",
   "name": "python",
   "nbconvert_exporter": "python",
   "pygments_lexer": "ipython2",
   "version": "2.7.6"
  }
 },
 "nbformat": 4,
 "nbformat_minor": 0
}